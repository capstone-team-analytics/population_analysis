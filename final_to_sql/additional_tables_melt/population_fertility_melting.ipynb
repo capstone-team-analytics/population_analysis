{
 "cells": [
  {
   "cell_type": "code",
   "execution_count": null,
   "id": "6c447e4b",
   "metadata": {},
   "outputs": [
    {
     "data": {
      "text/html": [
       "<div>\n",
       "<style scoped>\n",
       "    .dataframe tbody tr th:only-of-type {\n",
       "        vertical-align: middle;\n",
       "    }\n",
       "\n",
       "    .dataframe tbody tr th {\n",
       "        vertical-align: top;\n",
       "    }\n",
       "\n",
       "    .dataframe thead th {\n",
       "        text-align: right;\n",
       "    }\n",
       "</style>\n",
       "<table border=\"1\" class=\"dataframe\">\n",
       "  <thead>\n",
       "    <tr style=\"text-align: right;\">\n",
       "      <th></th>\n",
       "      <th>year</th>\n",
       "      <th>country</th>\n",
       "      <th>population</th>\n",
       "    </tr>\n",
       "  </thead>\n",
       "  <tbody>\n",
       "    <tr>\n",
       "      <th>39</th>\n",
       "      <td>1985</td>\n",
       "      <td>Uganda</td>\n",
       "      <td>15023681.0</td>\n",
       "    </tr>\n",
       "    <tr>\n",
       "      <th>40</th>\n",
       "      <td>1986</td>\n",
       "      <td>Uganda</td>\n",
       "      <td>15467579.0</td>\n",
       "    </tr>\n",
       "    <tr>\n",
       "      <th>41</th>\n",
       "      <td>1987</td>\n",
       "      <td>Uganda</td>\n",
       "      <td>15954170.0</td>\n",
       "    </tr>\n",
       "    <tr>\n",
       "      <th>42</th>\n",
       "      <td>1988</td>\n",
       "      <td>Uganda</td>\n",
       "      <td>16470483.0</td>\n",
       "    </tr>\n",
       "    <tr>\n",
       "      <th>43</th>\n",
       "      <td>1989</td>\n",
       "      <td>Uganda</td>\n",
       "      <td>17010698.0</td>\n",
       "    </tr>\n",
       "  </tbody>\n",
       "</table>\n",
       "</div>"
      ],
      "text/plain": [
       "    year country  population\n",
       "39  1985  Uganda  15023681.0\n",
       "40  1986  Uganda  15467579.0\n",
       "41  1987  Uganda  15954170.0\n",
       "42  1988  Uganda  16470483.0\n",
       "43  1989  Uganda  17010698.0"
      ]
     },
     "metadata": {},
     "output_type": "display_data"
    }
   ],
   "source": [
    "import pandas as pd\n",
    "\n",
    "# Load the CSV file\n",
    "melted_1985_population = pd.read_csv('../../data_wrangling/datasets_from_1985_total/1985_population_selected.csv')\n",
    "\n",
    "# Reshape the DataFrame from wide to long format\n",
    "melted_1985_population = pd.melt(melted_1985_population, id_vars=[\"year\"], var_name=\"country\", value_name=\"population\")\n",
    "\n",
    "# Remove the unnecessary 'index' rows\n",
    "melted_1985_population = melted_1985_population[melted_1985_population['country'] != 'index']\n",
    "\n",
    "# Now df_filtered has the desired format\n",
    "display(melted_1985_population.head())\n"
   ]
  },
  {
   "cell_type": "code",
   "execution_count": 6,
   "id": "baf007b5",
   "metadata": {},
   "outputs": [],
   "source": [
    "melted_1985_population.to_csv('melted_1985_population.csv', index=False)"
   ]
  },
  {
   "cell_type": "code",
   "execution_count": null,
   "id": "cead5d71",
   "metadata": {},
   "outputs": [
    {
     "data": {
      "text/html": [
       "<div>\n",
       "<style scoped>\n",
       "    .dataframe tbody tr th:only-of-type {\n",
       "        vertical-align: middle;\n",
       "    }\n",
       "\n",
       "    .dataframe tbody tr th {\n",
       "        vertical-align: top;\n",
       "    }\n",
       "\n",
       "    .dataframe thead th {\n",
       "        text-align: right;\n",
       "    }\n",
       "</style>\n",
       "<table border=\"1\" class=\"dataframe\">\n",
       "  <thead>\n",
       "    <tr style=\"text-align: right;\">\n",
       "      <th></th>\n",
       "      <th>year</th>\n",
       "      <th>country</th>\n",
       "      <th>fertility_rate</th>\n",
       "    </tr>\n",
       "  </thead>\n",
       "  <tbody>\n",
       "    <tr>\n",
       "      <th>39</th>\n",
       "      <td>1985</td>\n",
       "      <td>Uganda</td>\n",
       "      <td>7.035</td>\n",
       "    </tr>\n",
       "    <tr>\n",
       "      <th>40</th>\n",
       "      <td>1986</td>\n",
       "      <td>Uganda</td>\n",
       "      <td>7.081</td>\n",
       "    </tr>\n",
       "    <tr>\n",
       "      <th>41</th>\n",
       "      <td>1987</td>\n",
       "      <td>Uganda</td>\n",
       "      <td>7.119</td>\n",
       "    </tr>\n",
       "    <tr>\n",
       "      <th>42</th>\n",
       "      <td>1988</td>\n",
       "      <td>Uganda</td>\n",
       "      <td>7.105</td>\n",
       "    </tr>\n",
       "    <tr>\n",
       "      <th>43</th>\n",
       "      <td>1989</td>\n",
       "      <td>Uganda</td>\n",
       "      <td>7.072</td>\n",
       "    </tr>\n",
       "  </tbody>\n",
       "</table>\n",
       "</div>"
      ],
      "text/plain": [
       "    year country  fertility_rate\n",
       "39  1985  Uganda           7.035\n",
       "40  1986  Uganda           7.081\n",
       "41  1987  Uganda           7.119\n",
       "42  1988  Uganda           7.105\n",
       "43  1989  Uganda           7.072"
      ]
     },
     "metadata": {},
     "output_type": "display_data"
    }
   ],
   "source": [
    "# Load the CSV file\n",
    "melted_1985_fertility = pd.read_csv('../../data_wrangling/datasets_from_1985_total/1985_fertility_rate_selected.csv')\n",
    "\n",
    "# Reshape the DataFrame from wide to long format\n",
    "melted_1985_fertility = pd.melt(melted_1985_fertility, id_vars=[\"year\"], var_name=\"country\", value_name=\"fertility_rate\")\n",
    "\n",
    "# Remove the unnecessary 'index' rows\n",
    "melted_1985_fertility = melted_1985_fertility[melted_1985_fertility['country'] != 'index']\n",
    "\n",
    "# Now df_filtered has the desired format\n",
    "display(melted_1985_fertility.head())\n"
   ]
  },
  {
   "cell_type": "code",
   "execution_count": 9,
   "id": "18edcdb8",
   "metadata": {},
   "outputs": [],
   "source": [
    "melted_1985_fertility.to_csv('melted_1985_fertility.csv', index=False)"
   ]
  },
  {
   "cell_type": "code",
   "execution_count": null,
   "id": "b914fe3e",
   "metadata": {},
   "outputs": [],
   "source": [
    "from sqlalchemy import create_engine, types\n",
    "from sqlalchemy import text # to be able to pass string\n",
    "from dotenv import dotenv_values"
   ]
  },
  {
   "cell_type": "code",
   "execution_count": 12,
   "id": "cd6471ce",
   "metadata": {},
   "outputs": [],
   "source": [
    "config = dotenv_values()\n",
    "\n",
    "pg_user = config['POSTGRES_USER']  \n",
    "pg_host = config['POSTGRES_HOST']\n",
    "pg_port = config['POSTGRES_PORT']\n",
    "pg_db = config['POSTGRES_DB']\n",
    "pg_schema = config['POSTGRES_SCHEMA']\n",
    "pg_pass = config['POSTGRES_PASS']"
   ]
  },
  {
   "cell_type": "code",
   "execution_count": 13,
   "id": "c4ab486a",
   "metadata": {},
   "outputs": [],
   "source": [
    "url = f'postgresql://{pg_user}:{pg_pass}@{pg_host}:{pg_port}/{pg_db}'"
   ]
  },
  {
   "cell_type": "code",
   "execution_count": 14,
   "id": "057a7717",
   "metadata": {},
   "outputs": [],
   "source": [
    "engine = create_engine(url, echo=False)"
   ]
  },
  {
   "cell_type": "code",
   "execution_count": 15,
   "id": "4f32889e",
   "metadata": {},
   "outputs": [
    {
     "data": {
      "text/plain": [
       "<sqlalchemy.engine.cursor.CursorResult at 0x121136f40>"
      ]
     },
     "execution_count": 15,
     "metadata": {},
     "output_type": "execute_result"
    }
   ],
   "source": [
    "my_schema = config['POSTGRES_SCHEMA']\n",
    "with engine.begin() as conn: \n",
    "    result = conn.execute(text(f'SET search_path TO {my_schema};'))\n",
    "result"
   ]
  },
  {
   "cell_type": "code",
   "execution_count": null,
   "id": "b3435315",
   "metadata": {},
   "outputs": [
    {
     "data": {
      "text/plain": [
       "379"
      ]
     },
     "execution_count": 16,
     "metadata": {},
     "output_type": "execute_result"
    }
   ],
   "source": [
    "melted_1985_fertility.to_sql(\n",
    "    name='melted_1985_fertility',      # name of the table in the database\n",
    "    con=engine,             # your SQLAlchemy engine\n",
    "    schema='capstone_population_analysis',   # optional, if you want to specify the schema\n",
    "    if_exists='replace',    # or 'append' if you want to add rows\n",
    "    index=False             # don't write the DataFrame index as a column\n",
    ")\n"
   ]
  },
  {
   "cell_type": "code",
   "execution_count": 17,
   "id": "f7f6f98e",
   "metadata": {},
   "outputs": [
    {
     "data": {
      "text/plain": [
       "379"
      ]
     },
     "execution_count": 17,
     "metadata": {},
     "output_type": "execute_result"
    }
   ],
   "source": [
    "melted_1985_population.to_sql(\n",
    "    name='melted_1985_population',      # name of the table in the database\n",
    "    con=engine,             # your SQLAlchemy engine\n",
    "    schema='capstone_population_analysis',   # optional, if you want to specify the schema\n",
    "    if_exists='replace',    # or 'append' if you want to add rows\n",
    "    index=False             # don't write the DataFrame index as a column\n",
    ")\n"
   ]
  }
 ],
 "metadata": {
  "kernelspec": {
   "display_name": "base",
   "language": "python",
   "name": "python3"
  },
  "language_info": {
   "codemirror_mode": {
    "name": "ipython",
    "version": 3
   },
   "file_extension": ".py",
   "mimetype": "text/x-python",
   "name": "python",
   "nbconvert_exporter": "python",
   "pygments_lexer": "ipython3",
   "version": "3.9.21"
  }
 },
 "nbformat": 4,
 "nbformat_minor": 5
}
