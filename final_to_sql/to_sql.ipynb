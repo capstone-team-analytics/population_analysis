{
 "cells": [
  {
   "cell_type": "code",
   "execution_count": 2,
   "id": "c99d7fb6",
   "metadata": {},
   "outputs": [],
   "source": [
    "import pandas as pd\n",
    "from sqlalchemy import create_engine, types\n",
    "from sqlalchemy import text # to be able to pass string\n",
    "from dotenv import dotenv_values"
   ]
  },
  {
   "cell_type": "code",
   "execution_count": 3,
   "id": "020cf5c2",
   "metadata": {},
   "outputs": [],
   "source": [
    "config = dotenv_values()\n",
    "\n",
    "pg_user = config['POSTGRES_USER']  \n",
    "pg_host = config['POSTGRES_HOST']\n",
    "pg_port = config['POSTGRES_PORT']\n",
    "pg_db = config['POSTGRES_DB']\n",
    "pg_schema = config['POSTGRES_SCHEMA']\n",
    "pg_pass = config['POSTGRES_PASS']"
   ]
  },
  {
   "cell_type": "code",
   "execution_count": 4,
   "id": "30e36061",
   "metadata": {},
   "outputs": [],
   "source": [
    "url = f'postgresql://{pg_user}:{pg_pass}@{pg_host}:{pg_port}/{pg_db}'"
   ]
  },
  {
   "cell_type": "code",
   "execution_count": 5,
   "id": "7cde58ab",
   "metadata": {},
   "outputs": [],
   "source": [
    "engine = create_engine(url, echo=False)"
   ]
  },
  {
   "cell_type": "code",
   "execution_count": 6,
   "id": "162baf52",
   "metadata": {},
   "outputs": [
    {
     "data": {
      "text/plain": [
       "<sqlalchemy.engine.cursor.CursorResult at 0x11fc3c5e0>"
      ]
     },
     "execution_count": 6,
     "metadata": {},
     "output_type": "execute_result"
    }
   ],
   "source": [
    "my_schema = config['POSTGRES_SCHEMA']\n",
    "with engine.begin() as conn: \n",
    "    result = conn.execute(text(f'SET search_path TO {my_schema};'))\n",
    "result"
   ]
  },
  {
   "cell_type": "code",
   "execution_count": 7,
   "id": "746bd864",
   "metadata": {},
   "outputs": [],
   "source": [
    "total_1985_mortality = pd.read_csv('../data_wrangling/datasets_from_1985_total/1985_child_mortality_selected.csv')\n",
    "total_1985_education = pd.read_csv('../data_wrangling/datasets_from_1985_total/1985_education_rate_selected.csv')\n",
    "total_1985_fertility = pd.read_csv('../data_wrangling/datasets_from_1985_total/1985_fertility_rate_selected.csv')\n",
    "total_1985_gdp = pd.read_csv('../data_wrangling/datasets_from_1985_total/1985_gdp_selected.csv')\n",
    "total_1985_population = pd.read_csv('../data_wrangling/datasets_from_1985_total/1985_population_selected.csv')\n",
    "\n"
   ]
  },
  {
   "cell_type": "code",
   "execution_count": 8,
   "id": "22c83379",
   "metadata": {},
   "outputs": [
    {
     "data": {
      "text/plain": [
       "39"
      ]
     },
     "execution_count": 8,
     "metadata": {},
     "output_type": "execute_result"
    }
   ],
   "source": [
    "total_1985_mortality.to_sql(\n",
    "    name='total_1985_mortality',      # name of the table in the database\n",
    "    con=engine,             # your SQLAlchemy engine\n",
    "    schema='capstone_population_analysis',   # optional, if you want to specify the schema\n",
    "    if_exists='replace',    # or 'append' if you want to add rows\n",
    "    index=False             # don't write the DataFrame index as a column\n",
    ")\n"
   ]
  },
  {
   "cell_type": "code",
   "execution_count": 9,
   "id": "3ebe732a",
   "metadata": {},
   "outputs": [
    {
     "data": {
      "text/plain": [
       "39"
      ]
     },
     "execution_count": 9,
     "metadata": {},
     "output_type": "execute_result"
    }
   ],
   "source": [
    "total_1985_education.to_sql(\n",
    "    name='total_1985_education',      # name of the table in the database\n",
    "    con=engine,             # your SQLAlchemy engine\n",
    "    schema='capstone_population_analysis',   # optional, if you want to specify the schema\n",
    "    if_exists='replace',    # or 'append' if you want to add rows\n",
    "    index=False             # don't write the DataFrame index as a column\n",
    ")"
   ]
  },
  {
   "cell_type": "code",
   "execution_count": 10,
   "id": "0e8ac00a",
   "metadata": {},
   "outputs": [
    {
     "data": {
      "text/plain": [
       "39"
      ]
     },
     "execution_count": 10,
     "metadata": {},
     "output_type": "execute_result"
    }
   ],
   "source": [
    "total_1985_fertility.to_sql(\n",
    "    name='total_1985_fertility',      # name of the table in the database\n",
    "    con=engine,             # your SQLAlchemy engine\n",
    "    schema='capstone_population_analysis',   # optional, if you want to specify the schema\n",
    "    if_exists='replace',    # or 'append' if you want to add rows\n",
    "    index=False             # don't write the DataFrame index as a column\n",
    ")"
   ]
  },
  {
   "cell_type": "code",
   "execution_count": 11,
   "id": "99bf2859",
   "metadata": {},
   "outputs": [
    {
     "data": {
      "text/plain": [
       "39"
      ]
     },
     "execution_count": 11,
     "metadata": {},
     "output_type": "execute_result"
    }
   ],
   "source": [
    "total_1985_gdp.to_sql(\n",
    "    name='total_1985_gdp',      # name of the table in the database\n",
    "    con=engine,             # your SQLAlchemy engine\n",
    "    schema='capstone_population_analysis',   # optional, if you want to specify the schema\n",
    "    if_exists='replace',    # or 'append' if you want to add rows\n",
    "    index=False             # don't write the DataFrame index as a column\n",
    ")"
   ]
  },
  {
   "cell_type": "code",
   "execution_count": 12,
   "id": "939c1614",
   "metadata": {},
   "outputs": [
    {
     "data": {
      "text/plain": [
       "39"
      ]
     },
     "execution_count": 12,
     "metadata": {},
     "output_type": "execute_result"
    }
   ],
   "source": [
    "total_1985_gdp.to_sql(\n",
    "    name='total_1985_gdp',      # name of the table in the database\n",
    "    con=engine,             # your SQLAlchemy engine\n",
    "    schema='capstone_population_analysis',   # optional, if you want to specify the schema\n",
    "    if_exists='replace',    # or 'append' if you want to add rows\n",
    "    index=False             # don't write the DataFrame index as a column\n",
    ")"
   ]
  }
 ],
 "metadata": {
  "kernelspec": {
   "display_name": "base",
   "language": "python",
   "name": "python3"
  },
  "language_info": {
   "codemirror_mode": {
    "name": "ipython",
    "version": 3
   },
   "file_extension": ".py",
   "mimetype": "text/x-python",
   "name": "python",
   "nbconvert_exporter": "python",
   "pygments_lexer": "ipython3",
   "version": "3.9.21"
  }
 },
 "nbformat": 4,
 "nbformat_minor": 5
}
