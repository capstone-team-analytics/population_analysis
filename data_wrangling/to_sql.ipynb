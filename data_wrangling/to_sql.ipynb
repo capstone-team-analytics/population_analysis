{
 "cells": [
  {
   "cell_type": "code",
   "execution_count": 14,
   "id": "081ecf26",
   "metadata": {},
   "outputs": [
    {
     "name": "stdout",
     "output_type": "stream",
     "text": [
      "\u001b[34m==>\u001b[0m \u001b[1mAuto-updating Homebrew...\u001b[0m\n",
      "Adjust how often this is run with HOMEBREW_AUTO_UPDATE_SECS or disable with\n",
      "HOMEBREW_NO_AUTO_UPDATE. Hide these hints with HOMEBREW_NO_ENV_HINTS (see `man brew`).\n",
      "\u0007\u001b[34m==>\u001b[0m \u001b[1mHomebrew collects anonymous analytics.\u001b[0m\n",
      "\u001b[1mRead the analytics documentation (and how to opt-out) here:\n",
      "  \u001b[4mhttps://docs.brew.sh/Analytics\u001b[24m\u001b[0m\n",
      "No analytics have been recorded yet (nor will be during this `brew` run).\n",
      "\n",
      "\u001b[34m==>\u001b[0m \u001b[1mHomebrew is run entirely by unpaid volunteers. Please consider donating:\u001b[0m\n",
      "  \u001b[4mhttps://github.com/Homebrew/brew#donations\u001b[24m\n",
      "\n",
      "\u001b[34m==>\u001b[0m \u001b[1mAuto-updated Homebrew!\u001b[0m\n",
      "Updated 2 taps (homebrew/core and homebrew/cask).\n",
      "\u001b[34m==>\u001b[0m \u001b[1mNew Formulae\u001b[0m\n",
      "apache-flink@1      ente-cli            github-mcp-server   mani\n",
      "chdig               ftxui               libpg_query         marmite\n",
      "\u001b[34m==>\u001b[0m \u001b[1mNew Casks\u001b[0m\n",
      "font-adwaita        font-epunda-sans    repo-prompt         yaak@beta\n",
      "font-coral-pixels   font-epunda-slab    vesktop\n",
      "\n",
      "\u001b[34m==>\u001b[0m \u001b[1mDownloading https://ghcr.io/v2/homebrew/core/postgresql/14/manifests/14.17_1\u001b[0m\n",
      "######################################################################### 100.0%\n",
      "\u001b[32m==>\u001b[0m \u001b[1mFetching dependencies for postgresql@14: \u001b[32micu4c@77\u001b[39m, \u001b[32mca-certificates\u001b[39m, \u001b[32mopenssl@3\u001b[39m, \u001b[32mkrb5\u001b[39m, \u001b[32mlz4\u001b[39m and \u001b[32mreadline\u001b[39m\u001b[0m\n",
      "\u001b[34m==>\u001b[0m \u001b[1mDownloading https://ghcr.io/v2/homebrew/core/icu4c/77/manifests/77.1\u001b[0m\n",
      "######################################################################### 100.0%\n",
      "\u001b[32m==>\u001b[0m \u001b[1mFetching \u001b[32micu4c@77\u001b[39m\u001b[0m\n",
      "\u001b[34m==>\u001b[0m \u001b[1mDownloading https://ghcr.io/v2/homebrew/core/icu4c/77/blobs/sha256:19f6b5fef\u001b[0m\n",
      "######################################################################### 100.0%\n",
      "\u001b[34m==>\u001b[0m \u001b[1mDownloading https://ghcr.io/v2/homebrew/core/ca-certificates/manifests/2025-\u001b[0m\n",
      "######################################################################### 100.0%\n",
      "\u001b[32m==>\u001b[0m \u001b[1mFetching \u001b[32mca-certificates\u001b[39m\u001b[0m\n",
      "\u001b[34m==>\u001b[0m \u001b[1mDownloading https://ghcr.io/v2/homebrew/core/ca-certificates/blobs/sha256:8f\u001b[0m\n",
      "######################################################################### 100.0%\n",
      "\u001b[34m==>\u001b[0m \u001b[1mDownloading https://ghcr.io/v2/homebrew/core/openssl/3/manifests/3.4.1\u001b[0m\n",
      "######################################################################### 100.0%\n",
      "\u001b[32m==>\u001b[0m \u001b[1mFetching \u001b[32mopenssl@3\u001b[39m\u001b[0m\n",
      "\u001b[34m==>\u001b[0m \u001b[1mDownloading https://ghcr.io/v2/homebrew/core/openssl/3/blobs/sha256:b20c7d9b\u001b[0m\n",
      "######################################################################### 100.0%\n",
      "\u001b[34m==>\u001b[0m \u001b[1mDownloading https://ghcr.io/v2/homebrew/core/krb5/manifests/1.21.3\u001b[0m\n",
      "######################################################################### 100.0%\n",
      "\u001b[32m==>\u001b[0m \u001b[1mFetching \u001b[32mkrb5\u001b[39m\u001b[0m\n",
      "\u001b[34m==>\u001b[0m \u001b[1mDownloading https://ghcr.io/v2/homebrew/core/krb5/blobs/sha256:75d0ce70b754c\u001b[0m\n",
      "######################################################################### 100.0%\n",
      "\u001b[34m==>\u001b[0m \u001b[1mDownloading https://ghcr.io/v2/homebrew/core/lz4/manifests/1.10.0-1\u001b[0m\n",
      "######################################################################### 100.0%\n",
      "\u001b[32m==>\u001b[0m \u001b[1mFetching \u001b[32mlz4\u001b[39m\u001b[0m\n",
      "\u001b[34m==>\u001b[0m \u001b[1mDownloading https://ghcr.io/v2/homebrew/core/lz4/blobs/sha256:5bd143b7b78498\u001b[0m\n",
      "######################################################################### 100.0%\n",
      "\u001b[34m==>\u001b[0m \u001b[1mDownloading https://ghcr.io/v2/homebrew/core/readline/manifests/8.2.13\u001b[0m\n",
      "######################################################################### 100.0%\n",
      "\u001b[32m==>\u001b[0m \u001b[1mFetching \u001b[32mreadline\u001b[39m\u001b[0m\n",
      "\u001b[34m==>\u001b[0m \u001b[1mDownloading https://ghcr.io/v2/homebrew/core/readline/blobs/sha256:738c27cee\u001b[0m\n",
      "######################################################################### 100.0%\n",
      "\u001b[32m==>\u001b[0m \u001b[1mFetching \u001b[32mpostgresql@14\u001b[39m\u001b[0m\n",
      "\u001b[34m==>\u001b[0m \u001b[1mDownloading https://ghcr.io/v2/homebrew/core/postgresql/14/blobs/sha256:88d8\u001b[0m\n",
      "######################################################################### 100.0%\n",
      "\u001b[32m==>\u001b[0m \u001b[1mInstalling dependencies for postgresql@14: \u001b[32micu4c@77\u001b[39m, \u001b[32mca-certificates\u001b[39m, \u001b[32mopenssl@3\u001b[39m, \u001b[32mkrb5\u001b[39m, \u001b[32mlz4\u001b[39m and \u001b[32mreadline\u001b[39m\u001b[0m\n",
      "\u001b[32m==>\u001b[0m \u001b[1mInstalling postgresql@14 dependency: \u001b[32micu4c@77\u001b[39m\u001b[0m\n",
      "\u001b[34m==>\u001b[0m \u001b[1mDownloading https://ghcr.io/v2/homebrew/core/icu4c/77/manifests/77.1\u001b[0m\n",
      "Already downloaded: /Users/kseniiavasylieva/Library/Caches/Homebrew/downloads/35ec2c3adb94255ba47424a4334da9616d97e1ec6d59ed907b368535018bed0a--icu4c@77-77.1.bottle_manifest.json\n",
      "\u001b[34m==>\u001b[0m \u001b[1mPouring icu4c@77--77.1.arm64_sequoia.bottle.tar.gz\u001b[0m\n",
      "🍺  /opt/homebrew/Cellar/icu4c@77/77.1: 277 files, 81.3MB\n",
      "\u001b[32m==>\u001b[0m \u001b[1mInstalling postgresql@14 dependency: \u001b[32mca-certificates\u001b[39m\u001b[0m\n",
      "\u001b[34m==>\u001b[0m \u001b[1mDownloading https://ghcr.io/v2/homebrew/core/ca-certificates/manifests/2025-\u001b[0m\n",
      "Already downloaded: /Users/kseniiavasylieva/Library/Caches/Homebrew/downloads/6c1debb525d4dc6007afae4cd2b772105111632b22fc28506550f6dfe27c6d52--ca-certificates-2025-02-25.bottle_manifest.json\n",
      "\u001b[34m==>\u001b[0m \u001b[1mPouring ca-certificates--2025-02-25.all.bottle.tar.gz\u001b[0m\n",
      "\u001b[34m==>\u001b[0m \u001b[1mRegenerating CA certificate bundle from keychain, this may take a while...\u001b[0m\n",
      "🍺  /opt/homebrew/Cellar/ca-certificates/2025-02-25: 4 files, 235.9KB\n",
      "\u001b[32m==>\u001b[0m \u001b[1mInstalling postgresql@14 dependency: \u001b[32mopenssl@3\u001b[39m\u001b[0m\n",
      "\u001b[34m==>\u001b[0m \u001b[1mDownloading https://ghcr.io/v2/homebrew/core/openssl/3/manifests/3.4.1\u001b[0m\n",
      "Already downloaded: /Users/kseniiavasylieva/Library/Caches/Homebrew/downloads/a2bb8b71ebddb1fe8553581fcbc1ffc4ab36795c68b3cd47977cf83f1673a5b1--openssl@3-3.4.1.bottle_manifest.json\n",
      "\u001b[34m==>\u001b[0m \u001b[1mPouring openssl@3--3.4.1.arm64_sequoia.bottle.tar.gz\u001b[0m\n",
      "🍺  /opt/homebrew/Cellar/openssl@3/3.4.1: 7,236 files, 33.4MB\n",
      "\u001b[32m==>\u001b[0m \u001b[1mInstalling postgresql@14 dependency: \u001b[32mkrb5\u001b[39m\u001b[0m\n",
      "\u001b[34m==>\u001b[0m \u001b[1mDownloading https://ghcr.io/v2/homebrew/core/krb5/manifests/1.21.3\u001b[0m\n",
      "Already downloaded: /Users/kseniiavasylieva/Library/Caches/Homebrew/downloads/c5793441ca90aa09420dddd84f19d4aaf86da4f0b3f60c84940d77b1cb4c6863--krb5-1.21.3.bottle_manifest.json\n",
      "\u001b[34m==>\u001b[0m \u001b[1mPouring krb5--1.21.3.arm64_sequoia.bottle.tar.gz\u001b[0m\n",
      "🍺  /opt/homebrew/Cellar/krb5/1.21.3: 163 files, 5.6MB\n",
      "\u001b[32m==>\u001b[0m \u001b[1mInstalling postgresql@14 dependency: \u001b[32mlz4\u001b[39m\u001b[0m\n",
      "\u001b[34m==>\u001b[0m \u001b[1mDownloading https://ghcr.io/v2/homebrew/core/lz4/manifests/1.10.0-1\u001b[0m\n",
      "Already downloaded: /Users/kseniiavasylieva/Library/Caches/Homebrew/downloads/8e11e90eb21a06e0f199af9d80e011e3693c77dd353b2477579d95c8471a5802--lz4-1.10.0-1.bottle_manifest.json\n",
      "\u001b[34m==>\u001b[0m \u001b[1mPouring lz4--1.10.0.arm64_sequoia.bottle.1.tar.gz\u001b[0m\n",
      "🍺  /opt/homebrew/Cellar/lz4/1.10.0: 24 files, 713.6KB\n",
      "\u001b[32m==>\u001b[0m \u001b[1mInstalling postgresql@14 dependency: \u001b[32mreadline\u001b[39m\u001b[0m\n",
      "\u001b[34m==>\u001b[0m \u001b[1mDownloading https://ghcr.io/v2/homebrew/core/readline/manifests/8.2.13\u001b[0m\n",
      "Already downloaded: /Users/kseniiavasylieva/Library/Caches/Homebrew/downloads/aa1afa38997a2866d91c81fdda8b36d436cd4ea7a82aed07d13c83c56eb3460e--readline-8.2.13.bottle_manifest.json\n",
      "\u001b[34m==>\u001b[0m \u001b[1mPouring readline--8.2.13.arm64_sequoia.bottle.tar.gz\u001b[0m\n",
      "🍺  /opt/homebrew/Cellar/readline/8.2.13: 51 files, 1.7MB\n",
      "\u001b[32m==>\u001b[0m \u001b[1mInstalling \u001b[32mpostgresql@14\u001b[39m\u001b[0m\n",
      "\u001b[34m==>\u001b[0m \u001b[1mPouring postgresql@14--14.17_1.arm64_sequoia.bottle.tar.gz\u001b[0m\n",
      "\u001b[34m==>\u001b[0m \u001b[1m/opt/homebrew/Cellar/postgresql@14/14.17_1/bin/initdb --locale=C -E UTF-8 /o\u001b[0m\n",
      "\u001b[34m==>\u001b[0m \u001b[1mCaveats\u001b[0m\n",
      "This formula has created a default database cluster with:\n",
      "  initdb --locale=C -E UTF-8 /opt/homebrew/var/postgresql@14\n",
      "\n",
      "To start postgresql@14 now and restart at login:\n",
      "  brew services start postgresql@14\n",
      "Or, if you don't want/need a background service you can just run:\n",
      "  /opt/homebrew/opt/postgresql@14/bin/postgres -D /opt/homebrew/var/postgresql@14\n",
      "\u001b[34m==>\u001b[0m \u001b[1mSummary\u001b[0m\n",
      "🍺  /opt/homebrew/Cellar/postgresql@14/14.17_1: 3,330 files, 45.9MB\n",
      "\u001b[34m==>\u001b[0m \u001b[1mRunning `brew cleanup postgresql@14`...\u001b[0m\n",
      "Disable this behaviour by setting HOMEBREW_NO_INSTALL_CLEANUP.\n",
      "Hide these hints with HOMEBREW_NO_ENV_HINTS (see `man brew`).\n",
      "\u001b[32m==>\u001b[0m \u001b[1mCaveats\u001b[0m\n",
      "\u001b[34m==>\u001b[0m \u001b[1mpostgresql@14\u001b[0m\n",
      "This formula has created a default database cluster with:\n",
      "  initdb --locale=C -E UTF-8 /opt/homebrew/var/postgresql@14\n",
      "\n",
      "To start postgresql@14 now and restart at login:\n",
      "  brew services start postgresql@14\n",
      "Or, if you don't want/need a background service you can just run:\n",
      "  /opt/homebrew/opt/postgresql@14/bin/postgres -D /opt/homebrew/var/postgresql@14\n"
     ]
    }
   ],
   "source": [
    "!brew install postgresql\n"
   ]
  },
  {
   "cell_type": "code",
   "execution_count": 15,
   "id": "e689495e",
   "metadata": {},
   "outputs": [
    {
     "name": "stdout",
     "output_type": "stream",
     "text": [
      "Collecting psycopg2-binary\n",
      "  Using cached psycopg2-binary-2.9.10.tar.gz (385 kB)\n",
      "  Preparing metadata (setup.py) ... \u001b[?25ldone\n",
      "\u001b[?25hBuilding wheels for collected packages: psycopg2-binary\n",
      "  Building wheel for psycopg2-binary (setup.py) ... \u001b[?25ldone\n",
      "\u001b[?25h  Created wheel for psycopg2-binary: filename=psycopg2_binary-2.9.10-cp39-cp39-macosx_11_0_arm64.whl size=132411 sha256=5ec1bc52402a89e6e24e14cc56cb29b563aba655e0e106a11fa28a3b25882764\n",
      "  Stored in directory: /Users/kseniiavasylieva/Library/Caches/pip/wheels/b3/78/4b/26baded4713ddbdca47cb9dcdab88aae8371bdcda44f9e07eb\n",
      "Successfully built psycopg2-binary\n",
      "Installing collected packages: psycopg2-binary\n",
      "Successfully installed psycopg2-binary-2.9.10\n"
     ]
    }
   ],
   "source": [
    "!pip install psycopg2-binary"
   ]
  },
  {
   "cell_type": "code",
   "execution_count": 3,
   "id": "c99d7fb6",
   "metadata": {},
   "outputs": [],
   "source": [
    "import pandas as pd\n",
    "from sqlalchemy import create_engine, types\n",
    "from sqlalchemy import text # to be able to pass string\n",
    "from dotenv import dotenv_values"
   ]
  },
  {
   "cell_type": "code",
   "execution_count": 4,
   "id": "020cf5c2",
   "metadata": {},
   "outputs": [],
   "source": [
    "config = dotenv_values()\n",
    "\n",
    "pg_user = config['POSTGRES_USER']  \n",
    "pg_host = config['POSTGRES_HOST']\n",
    "pg_port = config['POSTGRES_PORT']\n",
    "pg_db = config['POSTGRES_DB']\n",
    "pg_schema = config['POSTGRES_SCHEMA']\n",
    "pg_pass = config['POSTGRES_PASS']"
   ]
  },
  {
   "cell_type": "code",
   "execution_count": 5,
   "id": "30e36061",
   "metadata": {},
   "outputs": [],
   "source": [
    "url = f'postgresql://{pg_user}:{pg_pass}@{pg_host}:{pg_port}/{pg_db}'"
   ]
  },
  {
   "cell_type": "code",
   "execution_count": 16,
   "id": "7cde58ab",
   "metadata": {},
   "outputs": [],
   "source": [
    "engine = create_engine(url, echo=False)"
   ]
  },
  {
   "cell_type": "code",
   "execution_count": 17,
   "id": "162baf52",
   "metadata": {},
   "outputs": [
    {
     "data": {
      "text/plain": [
       "<sqlalchemy.engine.cursor.CursorResult at 0x171e5edc0>"
      ]
     },
     "execution_count": 17,
     "metadata": {},
     "output_type": "execute_result"
    }
   ],
   "source": [
    "my_schema = config['POSTGRES_SCHEMA']\n",
    "with engine.begin() as conn: \n",
    "    result = conn.execute(text(f'SET search_path TO {my_schema};'))\n",
    "result"
   ]
  },
  {
   "cell_type": "code",
   "execution_count": 19,
   "id": "746bd864",
   "metadata": {},
   "outputs": [],
   "source": [
    "df_population_clean = pd.read_csv('../data_cleaning/final_population_data.csv')\n",
    "\n"
   ]
  },
  {
   "cell_type": "code",
   "execution_count": 22,
   "id": "22c83379",
   "metadata": {},
   "outputs": [
    {
     "data": {
      "text/plain": [
       "64"
      ]
     },
     "execution_count": 22,
     "metadata": {},
     "output_type": "execute_result"
    }
   ],
   "source": [
    "df_population_clean.to_sql(\n",
    "    name='population',      # name of the table in the database\n",
    "    con=engine,             # your SQLAlchemy engine\n",
    "    schema='capstone_population_analysis',   # optional, if you want to specify the schema\n",
    "    if_exists='replace',    # or 'append' if you want to add rows\n",
    "    index=False             # don't write the DataFrame index as a column\n",
    ")\n"
   ]
  }
 ],
 "metadata": {
  "kernelspec": {
   "display_name": "base",
   "language": "python",
   "name": "python3"
  },
  "language_info": {
   "codemirror_mode": {
    "name": "ipython",
    "version": 3
   },
   "file_extension": ".py",
   "mimetype": "text/x-python",
   "name": "python",
   "nbconvert_exporter": "python",
   "pygments_lexer": "ipython3",
   "version": "3.9.21"
  }
 },
 "nbformat": 4,
 "nbformat_minor": 5
}
