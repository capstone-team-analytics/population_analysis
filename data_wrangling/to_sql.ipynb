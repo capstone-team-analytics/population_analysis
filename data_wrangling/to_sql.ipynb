{
 "cells": [
  {
   "cell_type": "code",
   "execution_count": 2,
   "id": "081ecf26",
   "metadata": {},
   "outputs": [],
   "source": [
    "#!brew install postgresql\n"
   ]
  },
  {
   "cell_type": "code",
   "execution_count": 3,
   "id": "e689495e",
   "metadata": {},
   "outputs": [],
   "source": [
    "#!pip install psycopg2-binary"
   ]
  },
  {
   "cell_type": "code",
   "execution_count": 4,
   "id": "c99d7fb6",
   "metadata": {},
   "outputs": [],
   "source": [
    "import pandas as pd\n",
    "from sqlalchemy import create_engine, types\n",
    "from sqlalchemy import text # to be able to pass string\n",
    "from dotenv import dotenv_values"
   ]
  },
  {
   "cell_type": "code",
   "execution_count": 5,
   "id": "020cf5c2",
   "metadata": {},
   "outputs": [],
   "source": [
    "config = dotenv_values()\n",
    "\n",
    "pg_user = config['POSTGRES_USER']  \n",
    "pg_host = config['POSTGRES_HOST']\n",
    "pg_port = config['POSTGRES_PORT']\n",
    "pg_db = config['POSTGRES_DB']\n",
    "pg_schema = config['POSTGRES_SCHEMA']\n",
    "pg_pass = config['POSTGRES_PASS']"
   ]
  },
  {
   "cell_type": "code",
   "execution_count": 6,
   "id": "30e36061",
   "metadata": {},
   "outputs": [],
   "source": [
    "url = f'postgresql://{pg_user}:{pg_pass}@{pg_host}:{pg_port}/{pg_db}'"
   ]
  },
  {
   "cell_type": "code",
   "execution_count": 7,
   "id": "7cde58ab",
   "metadata": {},
   "outputs": [],
   "source": [
    "engine = create_engine(url, echo=False)"
   ]
  },
  {
   "cell_type": "code",
   "execution_count": 8,
   "id": "162baf52",
   "metadata": {},
   "outputs": [
    {
     "data": {
      "text/plain": [
       "<sqlalchemy.engine.cursor.CursorResult at 0x130609760>"
      ]
     },
     "execution_count": 8,
     "metadata": {},
     "output_type": "execute_result"
    }
   ],
   "source": [
    "my_schema = config['POSTGRES_SCHEMA']\n",
    "with engine.begin() as conn: \n",
    "    result = conn.execute(text(f'SET search_path TO {my_schema};'))\n",
    "result"
   ]
  },
  {
   "cell_type": "code",
   "execution_count": 9,
   "id": "746bd864",
   "metadata": {},
   "outputs": [],
   "source": [
    "df_population_clean = pd.read_csv('../data_cleaning/final_population_data.csv')\n",
    "\n"
   ]
  },
  {
   "cell_type": "code",
   "execution_count": 10,
   "id": "22c83379",
   "metadata": {},
   "outputs": [
    {
     "data": {
      "text/plain": [
       "64"
      ]
     },
     "execution_count": 10,
     "metadata": {},
     "output_type": "execute_result"
    }
   ],
   "source": [
    "df_population_clean.to_sql(\n",
    "    name='population',      # name of the table in the database\n",
    "    con=engine,             # your SQLAlchemy engine\n",
    "    schema='capstone_population_analysis',   # optional, if you want to specify the schema\n",
    "    if_exists='replace',    # or 'append' if you want to add rows\n",
    "    index=False             # don't write the DataFrame index as a column\n",
    ")\n"
   ]
  },
  {
   "cell_type": "code",
   "execution_count": 11,
   "id": "248d9b1f",
   "metadata": {},
   "outputs": [],
   "source": [
    "df_fertility_rate_clean = pd.read_csv('../data_cleaning/final_fertility_data.csv')\n",
    "df_child_mortality_clean = pd.read_csv('../data_cleaning/final_mortality_data.csv')\n",
    "df_education_clean = pd.read_csv('../data_cleaning/final_education_data.csv')\n",
    "df_gdp_clean = pd.read_csv('../data_cleaning/final_gdp_data.csv')"
   ]
  },
  {
   "cell_type": "code",
   "execution_count": 12,
   "id": "3ebe732a",
   "metadata": {},
   "outputs": [
    {
     "data": {
      "text/plain": [
       "64"
      ]
     },
     "execution_count": 12,
     "metadata": {},
     "output_type": "execute_result"
    }
   ],
   "source": [
    "df_fertility_rate_clean.to_sql(\n",
    "    name='fertility_rate',      # name of the table in the database\n",
    "    con=engine,             # your SQLAlchemy engine\n",
    "    schema='capstone_population_analysis',   # optional, if you want to specify the schema\n",
    "    if_exists='replace',    # or 'append' if you want to add rows\n",
    "    index=False             # don't write the DataFrame index as a column\n",
    ")"
   ]
  },
  {
   "cell_type": "code",
   "execution_count": 13,
   "id": "0e8ac00a",
   "metadata": {},
   "outputs": [
    {
     "data": {
      "text/plain": [
       "64"
      ]
     },
     "execution_count": 13,
     "metadata": {},
     "output_type": "execute_result"
    }
   ],
   "source": [
    "df_child_mortality_clean.to_sql(\n",
    "    name='child_mortality',      # name of the table in the database\n",
    "    con=engine,             # your SQLAlchemy engine\n",
    "    schema='capstone_population_analysis',   # optional, if you want to specify the schema\n",
    "    if_exists='replace',    # or 'append' if you want to add rows\n",
    "    index=False             # don't write the DataFrame index as a column\n",
    ")"
   ]
  },
  {
   "cell_type": "code",
   "execution_count": 14,
   "id": "99bf2859",
   "metadata": {},
   "outputs": [
    {
     "data": {
      "text/plain": [
       "64"
      ]
     },
     "execution_count": 14,
     "metadata": {},
     "output_type": "execute_result"
    }
   ],
   "source": [
    "df_education_clean.to_sql(\n",
    "    name='education',      # name of the table in the database\n",
    "    con=engine,             # your SQLAlchemy engine\n",
    "    schema='capstone_population_analysis',   # optional, if you want to specify the schema\n",
    "    if_exists='replace',    # or 'append' if you want to add rows\n",
    "    index=False             # don't write the DataFrame index as a column\n",
    ")"
   ]
  },
  {
   "cell_type": "code",
   "execution_count": 15,
   "id": "939c1614",
   "metadata": {},
   "outputs": [
    {
     "data": {
      "text/plain": [
       "64"
      ]
     },
     "execution_count": 15,
     "metadata": {},
     "output_type": "execute_result"
    }
   ],
   "source": [
    "df_gdp_clean.to_sql(\n",
    "    name='gdp',      # name of the table in the database\n",
    "    con=engine,             # your SQLAlchemy engine\n",
    "    schema='capstone_population_analysis',   # optional, if you want to specify the schema\n",
    "    if_exists='replace',    # or 'append' if you want to add rows\n",
    "    index=False             # don't write the DataFrame index as a column\n",
    ")"
   ]
  },
  {
   "cell_type": "code",
   "execution_count": 16,
   "id": "7d205d6d",
   "metadata": {},
   "outputs": [],
   "source": [
    "df_gdp_person_clean = pd.read_csv('../data_cleaning/final_gdp_person_data.csv')"
   ]
  },
  {
   "cell_type": "code",
   "execution_count": 17,
   "id": "bdba314e",
   "metadata": {},
   "outputs": [
    {
     "data": {
      "text/plain": [
       "64"
      ]
     },
     "execution_count": 17,
     "metadata": {},
     "output_type": "execute_result"
    }
   ],
   "source": [
    "df_gdp_person_clean.to_sql(\n",
    "    name='gdp_person',      # name of the table in the database\n",
    "    con=engine,             # your SQLAlchemy engine\n",
    "    schema='capstone_population_analysis',   # optional, if you want to specify the schema\n",
    "    if_exists='replace',    # or 'append' if you want to add rows\n",
    "    index=False             # don't write the DataFrame index as a column\n",
    ")"
   ]
  }
 ],
 "metadata": {
  "kernelspec": {
   "display_name": "base",
   "language": "python",
   "name": "python3"
  },
  "language_info": {
   "codemirror_mode": {
    "name": "ipython",
    "version": 3
   },
   "file_extension": ".py",
   "mimetype": "text/x-python",
   "name": "python",
   "nbconvert_exporter": "python",
   "pygments_lexer": "ipython3",
   "version": "3.9.21"
  }
 },
 "nbformat": 4,
 "nbformat_minor": 5
}
